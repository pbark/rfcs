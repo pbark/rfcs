{
 "cells": [
  {
   "cell_type": "markdown",
   "metadata": {
    "slideshow": {
     "slide_type": "slide"
    }
   },
   "source": [
    "# Aqua 0.7: Ansatz Design Doc\n",
    "\n",
    "| **Status**        | **Accepted** |\n",
    "|:------------------|:---------------------------------------------|\n",
    "| **RFC #**         | 0001                                         |\n",
    "| **Authors**       | Julien Gacon (jul@zurich.ibm.com)            |\n",
    "| **Submitted**     | 2020-01-06                                   |\n",
    "| **Updated**       | 2020-01-24                                   |"
   ]
  },
  {
   "cell_type": "markdown",
   "metadata": {},
   "source": [
    "# Overview\n",
    "\n",
    "1. [Motivation](#motivation)\n",
    "1. [User benefit](#benefit)\n",
    "1. [Proposed structure](#structure)\n",
    "1. [Implementation](#implementation)\n",
    "    1. [The `Ansatz` object](#ansatz)\n",
    "    1. [Variational forms](#varforms)\n",
    "    1. [Feature maps](#featmaps)\n",
    "    1. Others"
   ]
  },
  {
   "cell_type": "markdown",
   "metadata": {
    "slideshow": {
     "slide_type": "slide"
    }
   },
   "source": [
    "# Motivation<a id=\"motivation\"></a>"
   ]
  },
  {
   "cell_type": "markdown",
   "metadata": {
    "slideshow": {
     "slide_type": "slide"
    }
   },
   "source": [
    "## Creating a new variational form\n",
    "\n",
    "Currently, creating a new variational form class requires a lot of copy+paste. \n",
    "\n",
    "Remember: `RYRZ` has all of that, too!"
   ]
  },
  {
   "cell_type": "code",
   "execution_count": null,
   "metadata": {
    "slideshow": {
     "slide_type": "fragment"
    }
   },
   "outputs": [],
   "source": [
    "class RY(VariationalForm):\n",
    "    \"\"\"Layers of Y rotations followed by entangling gates.\"\"\"\n",
    "\n",
    "    def __init__(self, num_qubits, depth=3, entangler_map=None, entanglement='full', initial_state=None,\n",
    "                 entanglement_gate='cz', skip_unentangled_qubits=False, skip_final_ry=False):\n",
    "        self.validate(locals())\n",
    "        super().__init__()\n",
    "        \"\"\" 30 more lines ... \"\"\"\n",
    "        self._bounds = [(-np.pi, np.pi)] * self._num_parameters\n",
    "        self._support_parameterized_circuit = True\n",
    "\n",
    "    def construct_circuit(self, parameters, q=None):\n",
    "        if len(parameters) != self._num_parameters:\n",
    "            raise ValueError('The number of parameters has to be {}'.format(self._num_parameters))\n",
    "        \"\"\" 39 more lines ... \"\"\"\n",
    "        return circuit"
   ]
  },
  {
   "cell_type": "markdown",
   "metadata": {
    "slideshow": {
     "slide_type": "slide"
    }
   },
   "source": [
    "Setting up a new variational form should be quick and easy, more like:"
   ]
  },
  {
   "cell_type": "code",
   "execution_count": null,
   "metadata": {
    "slideshow": {
     "slide_type": "fragment"
    }
   },
   "outputs": [],
   "source": [
    "class RY(TwoQubitAnsatz):\n",
    "    def __init__(self, ...):\n",
    "        super.__init__(single_qubit_gate='ry', ...)"
   ]
  },
  {
   "cell_type": "markdown",
   "metadata": {
    "slideshow": {
     "slide_type": "slide"
    }
   },
   "source": [
    "If a user wants to quickly try a new format, it would convenient to set up the variational form in just a single line. Not all ideas must become a complete, new class."
   ]
  },
  {
   "cell_type": "code",
   "execution_count": null,
   "metadata": {
    "slideshow": {
     "slide_type": "fragment"
    }
   },
   "outputs": [],
   "source": [
    "rxrycx = MultiQubitAnsatz(num_qubits, single_qubit_gate=['rx', 'ry'], two_qubit_gate='cx', depth=4)"
   ]
  },
  {
   "cell_type": "markdown",
   "metadata": {
    "slideshow": {
     "slide_type": "slide"
    }
   },
   "source": [
    "## Adding and inserting layers\n",
    "\n",
    "The circuits that current variational forms build are not extensible. For algorithms, such as adaptive VQE, adding new layers to the variational forms is necessary. "
   ]
  },
  {
   "cell_type": "code",
   "execution_count": null,
   "metadata": {
    "slideshow": {
     "slide_type": "fragment"
    }
   },
   "outputs": [],
   "source": [
    "varform.add(additional_gate, qubit_indices)  # add `additional_gate` at `qubit_indices`"
   ]
  },
  {
   "cell_type": "markdown",
   "metadata": {
    "slideshow": {
     "slide_type": "fragment"
    }
   },
   "source": [
    "Other applications require the insertion of a new gate or layer not at the end of the variational form but somewhere in the middle. The position could e.g. be handled by the appearance of a certain `Parameter` instance."
   ]
  },
  {
   "cell_type": "markdown",
   "metadata": {
    "slideshow": {
     "slide_type": "subslide"
    }
   },
   "source": [
    "This can be used for the calculation of analytic gradients. By inserting a set of Paulis after a parameter and controlling the operation on an ancilla, we can compute the gradient with respect to that parameter (see [this paper](https://arxiv.org/pdf/1701.01450.pdf))."
   ]
  },
  {
   "cell_type": "code",
   "execution_count": null,
   "metadata": {
    "slideshow": {
     "slide_type": "fragment"
    }
   },
   "outputs": [],
   "source": [
    "target_param = Parameter('θ')  # this variable is also used in the circuit \n",
    "varform.insert(target_param, instr_to_insert, qubit_indices)"
   ]
  },
  {
   "cell_type": "markdown",
   "metadata": {
    "slideshow": {
     "slide_type": "notes"
    }
   },
   "source": [
    "The insertion might be difficult to implement, what would the `position` be? This feature might be too specific and implementation of special cases may be left up to the users."
   ]
  },
  {
   "cell_type": "markdown",
   "metadata": {
    "slideshow": {
     "slide_type": "slide"
    }
   },
   "source": [
    "## Combining variational forms\n",
    "\n",
    "A variational form is essentially a gate preparing a parameterized state. For chemistry, this could be the preparation of certain excitation. If we want multiple excitations, we should be able to just combine the respective variational forms."
   ]
  },
  {
   "cell_type": "code",
   "execution_count": null,
   "metadata": {
    "slideshow": {
     "slide_type": "fragment"
    }
   },
   "outputs": [],
   "source": [
    "S0, S1 = single_excitation('θ0'), single_excitation('θ1')\n",
    "D = double_excitation('θ2')\n",
    "UCCSD = S0 + S1 + D"
   ]
  },
  {
   "cell_type": "markdown",
   "metadata": {
    "slideshow": {
     "slide_type": "fragment"
    }
   },
   "source": [
    "If some variational forms prepare subsystems, they should be able to be combined at certain qubit indices."
   ]
  },
  {
   "cell_type": "code",
   "execution_count": null,
   "metadata": {
    "slideshow": {
     "slide_type": "fragment"
    }
   },
   "outputs": [],
   "source": [
    "varform = sub_varform.append(other_varform, indices)"
   ]
  },
  {
   "cell_type": "markdown",
   "metadata": {
    "slideshow": {
     "slide_type": "notes"
    }
   },
   "source": [
    "Possibly allow only `combine` and not `__add__`, since this is dangerously close to `add(new_layer)` and might result in confusion of what types can be added."
   ]
  },
  {
   "cell_type": "markdown",
   "metadata": {
    "slideshow": {
     "slide_type": "slide"
    }
   },
   "source": [
    "## DIY: special variational forms\n",
    "\n",
    "Variational forms can be very diverse and for special problems, special structures may perform better than others. Therefore, users should be able to their own Ansaetze as variable as possible.\n",
    "For this we can support automatic repetition (with correct setting of the parameters).\n",
    "\n",
    "![Automatic repetition](img/ansatz_rep.jpg)\n",
    "\n",
    "The repetitions can either be specified by a single integer or layer indices."
   ]
  },
  {
   "cell_type": "code",
   "execution_count": null,
   "metadata": {},
   "outputs": [],
   "source": []
  },
  {
   "cell_type": "code",
   "execution_count": null,
   "metadata": {
    "slideshow": {
     "slide_type": "fragment"
    }
   },
   "outputs": [],
   "source": [
    "varform = Ansatz([gate_1, gate_2], [indices_1, indices_2], reps=3)\n",
    "varform = Ansatz([gate_1, gate_2], [indices_1, indices_2], reps=[0, 1, 0, 1, 0, 1])"
   ]
  },
  {
   "cell_type": "markdown",
   "metadata": {
    "slideshow": {
     "slide_type": "fragment"
    }
   },
   "source": [
    "Instead of gates we can also allow fancier options, e.g. provide a Callable that accepts a repetition number or similar."
   ]
  },
  {
   "cell_type": "markdown",
   "metadata": {
    "slideshow": {
     "slide_type": "subslide"
    }
   },
   "source": [
    "What happens to the parameters in the gates if they get repeated? Do they just get repeated? \n",
    "If we stored them in a list, the user could later on overwrite them in `construct_circuit`. \n",
    "\n",
    "We could also add some default parameters, since the user might not expect there to be the same parameters? If these default parameters haven't been substituted we could raise a warning.\n",
    "\n",
    "Repeating the parameters is probably the more intuitive solution. If the user wants different parameters, they must be set afterwards -- as it is also the case with default parameters."
   ]
  },
  {
   "cell_type": "markdown",
   "metadata": {
    "slideshow": {
     "slide_type": "slide"
    }
   },
   "source": [
    "## Operator Ansatz \n",
    "\n",
    "Several algorithms, such as QAOA, require an Operator-evolution type Ansatz, such as \n",
    "\n",
    "$$\n",
    "V(\\theta) = e^{i\\theta_1 \\hat O_1} e^{i\\theta_2 \\hat O_2} e^{i \\theta_3 \\hat O_1} e^{i\\theta_4 \\hat O_2}\\cdots ~.\n",
    "$$\n",
    "\n",
    "Currently, this is cumbersome to implement. Similar to the ''DIY'' Ansaetze, we could support an `OperatorAnsatz` based on `Ansatz`:"
   ]
  },
  {
   "cell_type": "code",
   "execution_count": null,
   "metadata": {
    "slideshow": {
     "slide_type": "fragment"
    }
   },
   "outputs": [],
   "source": [
    "varform = OperatorAnsatz([Op1, Op2], reps=4)"
   ]
  },
  {
   "cell_type": "markdown",
   "metadata": {
    "slideshow": {
     "slide_type": "slide"
    }
   },
   "source": [
    "## Unification of circuit-producing concepts\n",
    "\n",
    "The concept of a variational form is broad. In support of a clear structure, we should group similar concepts. Then,\n",
    "* users are less confused and see what concepts have the same base,\n",
    "* we can reuse the same base functionalities,\n",
    "* we ensure that similar objects in Aqua behave the same way.\n",
    "\n",
    "Therefore, a common base for feature maps and variational forms would be sensible. Aqua hosts more facilities to construct circuits, as e.g. the `InitialState` or the `UncertaintyModel`, but as discussed towards the end of this doc these are best not derived from Ansatz.\n",
    "\n",
    "However, it should be our goal that all objects producing circuits in Aqua behave the same way. Ideally, they also feel like objects from Terra. This means finding a similar base for \n",
    "\n",
    "* variational forms\n",
    "* feature maps\n",
    "* initial states\n",
    "* uncertainty models\n",
    "* grover operators\n",
    "* amplitude estimation $\\mathcal A$ operators"
   ]
  },
  {
   "cell_type": "code",
   "execution_count": null,
   "metadata": {
    "slideshow": {
     "slide_type": "fragment"
    }
   },
   "outputs": [],
   "source": [
    "class MyFeatureMap(Ansatz):\n",
    "    # implement\n",
    "    \n",
    "class MyMultiQubitVarform(Ansatz):\n",
    "    # implement"
   ]
  },
  {
   "cell_type": "markdown",
   "metadata": {
    "slideshow": {
     "slide_type": "slide"
    }
   },
   "source": [
    "## Pre-transpilation & default parameters\n",
    "\n",
    "Terra provides the `Parameter` class for parameterized circuits. This can speedup the repeated execution of the same circuits with different parameters, as we can pre-transpile the circuit and substitute the parameters afterwards.\n",
    "This significantly improves our performance since transpiling is costly!\n",
    "\n",
    "By transpiling the circuit the first time `construct_circuit` is called, the user benefits from pre-transpiling without specifying it manually."
   ]
  },
  {
   "cell_type": "code",
   "execution_count": null,
   "metadata": {
    "slideshow": {
     "slide_type": "-"
    }
   },
   "outputs": [],
   "source": [
    "def construct_circuit(self, transpiled=True,  # set to False for untranspiled circuit\n",
    "                      parameter_prefix=default_prefix)"
   ]
  },
  {
   "cell_type": "markdown",
   "metadata": {
    "slideshow": {
     "slide_type": "fragment"
    }
   },
   "source": [
    "Also, we could simplify the setting of parameters, if the user just quickly wants a circuit to look at."
   ]
  },
  {
   "cell_type": "code",
   "execution_count": null,
   "metadata": {
    "slideshow": {
     "slide_type": "fragment"
    }
   },
   "outputs": [],
   "source": [
    "circuit = varform.construct_circuit()  # uses some default naming \n",
    "circuit = varform.construct_circuit(parameter_prefix='θ')"
   ]
  },
  {
   "cell_type": "markdown",
   "metadata": {
    "slideshow": {
     "slide_type": "slide"
    }
   },
   "source": [
    "## Optional barriers\n",
    "\n",
    "Barriers can be very useful for visualization, but if a circuit is executed only and not looked at, we don't need them and they can even slow down transpilation. Why insert them by default?"
   ]
  },
  {
   "cell_type": "code",
   "execution_count": null,
   "metadata": {
    "slideshow": {
     "slide_type": "fragment"
    }
   },
   "outputs": [],
   "source": [
    "circuit = varform.construct_circuit(insert_barriers=True)  # False by default"
   ]
  },
  {
   "cell_type": "markdown",
   "metadata": {
    "slideshow": {
     "slide_type": "fragment"
    }
   },
   "source": [
    "For this feature we would have to store a `has_barriers` variable and if the user changes back and forth between barriers and no barriers we would have to rebuild the circuit. (Workaround possible by storing both, but back-and-forth changing is not likely anyways.)"
   ]
  },
  {
   "cell_type": "markdown",
   "metadata": {
    "slideshow": {
     "slide_type": "slide"
    }
   },
   "source": [
    "# User benefit<a id=\"benefit\"></a>\n",
    "\n",
    "Let's summarise the benefits of having an `Ansatz` class satisfying the requirements from the motivation.\n",
    "\n",
    "1. Beginner user\n",
    "    1. flexibility: can get creative and easily assemble new variational forms\n",
    "    2. performance: can `construct_circuit` without specifying parameters, and thereby benefits from potential speedup without even touching Terra's `Parameter` class\n",
    "2. Advanced user\n",
    "    1. needs less copy+paste to implement standard variational forms\n",
    "    2. can also benefit from `Parameter` related speedup\n",
    "    3. has lots of lots of flexibility\n",
    "        * by adding and combining varforms\n",
    "        * inserting new layers\n",
    "        * wrapping parameterized gates\n",
    "    4. gets less confused by the multitude of Ansatz-like objects in Aqua"
   ]
  },
  {
   "cell_type": "markdown",
   "metadata": {
    "slideshow": {
     "slide_type": "slide"
    }
   },
   "source": [
    "# Proposed Structure<a id=\"structure\"></a>"
   ]
  },
  {
   "cell_type": "markdown",
   "metadata": {
    "slideshow": {
     "slide_type": "fragment"
    }
   },
   "source": [
    "The Ansatz class reconciles all classes that prepare an ansatz or wavefunction. Objects of the Ansatz type share the Ansatz interface and can be used as building blocks in larger circuits and algorithms. This has the key advantage, that the same concepts behave similarly and we avoid code duplication. \n",
    "\n",
    "More specialized types, that can also provide an easy setup or special behaviour, are derived from the Ansatz. \n",
    "\n",
    "See the next Figure."
   ]
  },
  {
   "cell_type": "markdown",
   "metadata": {
    "slideshow": {
     "slide_type": "subslide"
    }
   },
   "source": [
    "![Ansatz design](img/ansatz_scheme.jpg)"
   ]
  },
  {
   "cell_type": "markdown",
   "metadata": {
    "slideshow": {
     "slide_type": "subslide"
    }
   },
   "source": [
    "## Unify base classes\n",
    "\n",
    "Currently, Aqua (6.x) distinguishes between a `VariationalForm` and a `FeatureMap`, which are both abstract classes that specify interfaces. These interfaces, however, almost identical and could be merged. Further, to new users the terms \"variational form\" and \"feature map\" might be confusing, whereas the word \"Ansatz\" wraps both concepts.\n",
    "\n",
    "Thus, by introducing the `Ansatz` as joint class we can directly derive `PauliExpansion` and `TwoLocalGateAnsatz` without introducing new levels of inheritance, which might be sources of confusion."
   ]
  },
  {
   "cell_type": "markdown",
   "metadata": {
    "slideshow": {
     "slide_type": "subslide"
    }
   },
   "source": [
    "## Composition vs. Inheritance\n",
    "\n",
    "The objects `RY`/`RYRZ` are displayed as objects derived from not `Ansatz` but an intermediate type. This is discussed in the [implementation section](#standard_varforms)."
   ]
  },
  {
   "cell_type": "markdown",
   "metadata": {
    "slideshow": {
     "slide_type": "slide"
    }
   },
   "source": [
    "# Implementation <a id='implementation'></a>\n",
    "\n",
    "To be discussed in more detail.\n",
    "\n",
    "1. Ansatz\n",
    "1. Variational forms\n",
    "    1. TwoLocalGateAnsatz\n",
    "    1. Standard Forms\n",
    "1. Feature maps\n",
    "    1. Pauli expansions\n",
    "    1. First/Second/... order\n",
    "1. Initial state objects\n",
    "\n",
    "Note: We know use the term Ansatz for the concept of a parameterized circuit preparing a parameterized state, not variational form."
   ]
  },
  {
   "cell_type": "markdown",
   "metadata": {
    "slideshow": {
     "slide_type": "slide"
    }
   },
   "source": [
    "## Ansatz <a id='ansatz'></a>\n",
    "\n",
    "### Requirements recap\n",
    "\n",
    "1. Take a list of gates and a number of repetitions and construct an Ansatz of desired depth\n",
    "2. Provide `construct_circuit(params=None, transpiled=True, insert_barriers=False)`. Note, that `params` must support `list[float | Parameter]`.\n",
    "3. Combine two Ansatz objects at given indices\n",
    "4. Insert new gates at a specified place\n",
    "5. Backward compatibility with all previous `VariationalForm` objects"
   ]
  },
  {
   "cell_type": "markdown",
   "metadata": {
    "slideshow": {
     "slide_type": "subslide"
    }
   },
   "source": [
    "Code checklist:"
   ]
  },
  {
   "cell_type": "code",
   "execution_count": null,
   "metadata": {
    "slideshow": {
     "slide_type": "fragment"
    }
   },
   "outputs": [],
   "source": [
    "def __init__(self, layers, indices, reps)\n",
    "\n",
    "def construct_circuit(params=None, transpiled=True, parameter_prefix=default_prefix, insert_barriers=False)\n",
    "\n",
    "def __add__(other)  # easy appending of Ansaetze, and maybe for various kinds of RHS/LHS types?\n",
    "\n",
    "def append(other, connection_indices=None)  # for Ansatz + Ansatz at special indices\n",
    "\n",
    "def add_layer(gate, indices=None, position=end)  # to add a new gate/QuantumCircuit\n",
    "\n",
    "def insert_at_param(target_param, gate, indices=None)   # to insert after/before a certain parameter"
   ]
  },
  {
   "cell_type": "markdown",
   "metadata": {
    "slideshow": {
     "slide_type": "slide"
    }
   },
   "source": [
    "### Implementation proposal #1: `QuantumCircuit`\n",
    "\n",
    "Make an Ansatz essentially a `QuantumCircuit` object. "
   ]
  },
  {
   "cell_type": "markdown",
   "metadata": {
    "slideshow": {
     "slide_type": "subslide"
    }
   },
   "source": [
    "#### Advantages \n",
    "\n",
    "* already provides: `__add__(QuantumCircuit/Ansatz)` and `append(Gate)`\n",
    "* gives the user a Terra-like feel for the Ansatz"
   ]
  },
  {
   "cell_type": "markdown",
   "metadata": {
    "slideshow": {
     "slide_type": "subslide"
    }
   },
   "source": [
    "#### Technical Issues\n",
    "\n",
    "* parameter setting by `list[float | Parameter]` not inherently supported\n",
    "* a circuit doesn't have `construct_circuit` -- but we can work without that\n",
    "* how to insert barriers or new gates at arbitrary positions? (use `data` member?)\n",
    "\n",
    "We lose flexibility. What was the initial gate object the user gave us? Missing performance benefit of pre-transpilation."
   ]
  },
  {
   "cell_type": "markdown",
   "metadata": {
    "slideshow": {
     "slide_type": "fragment"
    }
   },
   "source": [
    "#### Design Issues\n",
    "\n",
    "* inserts another level of inheritance (or maybe just use `QuantumCircuit` as component?)\n",
    "* `construct_circuit` is required for backward compatibility and the method name is very misleading \n",
    "* an Ansatz fits more the concept of an Gate in the sense that it has no registers attached. Therefore it should probably not be a `QuantumCircuit`."
   ]
  },
  {
   "cell_type": "markdown",
   "metadata": {
    "slideshow": {
     "slide_type": "slide"
    }
   },
   "source": [
    "### Implementation proposal #2: `Gate`\n",
    "\n",
    "Make an Ansatz essentially a `Gate` object. This could achieved by either deriving from a gate or wrapping it."
   ]
  },
  {
   "cell_type": "markdown",
   "metadata": {
    "slideshow": {
     "slide_type": "subslide"
    }
   },
   "source": [
    "#### Advantages\n",
    "\n",
    "* intuitively that's what an Ansatz is: a (parameterized) gate\n",
    "* provides some required functionalities: allows setting of parameters as list, can be controlled, repeated, etc. \n",
    "* no registers bound to it\n",
    "* stores parameters as `list`, setting parameters by `list[float | Parameter]` is straightforward\n",
    "* a `construct_circuit` method makes sense and is maybe missing anyways (or `to_circuit`)\n",
    "* gives the user a Terra-like feel for the Ansatz"
   ]
  },
  {
   "cell_type": "markdown",
   "metadata": {
    "slideshow": {
     "slide_type": "subslide"
    }
   },
   "source": [
    "#### Technical Issues\n",
    "\n",
    "* how to insert barriers or new gates at arbitrary positions?\n",
    "* need to implement the appending of new gates/instructions (use `definition`?)\n",
    "* exposes us to future changes of Terra's hierarchy"
   ]
  },
  {
   "cell_type": "markdown",
   "metadata": {
    "slideshow": {
     "slide_type": "fragment"
    }
   },
   "source": [
    "#### Design Issues\n",
    "\n",
    "* inserts another level of inheritance (or maybe just use `Gate` as component?)"
   ]
  },
  {
   "cell_type": "markdown",
   "metadata": {
    "slideshow": {
     "slide_type": "slide"
    }
   },
   "source": [
    "### Implementation proposal #3: `list[Gate]`\n",
    "\n",
    "Base an Ansatz on a list of `Gate`s or `Instruction`s (each item with a set of qubit indices).\n",
    "The parameters would be kept in a list."
   ]
  },
  {
   "cell_type": "markdown",
   "metadata": {
    "slideshow": {
     "slide_type": "subslide"
    }
   },
   "source": [
    "#### Advantages\n",
    "\n",
    "* natural implementation of repeating layers\n",
    "* not dependent on changes in Terra\n",
    "* internal data structure reflects input parameters of the user\n",
    "* appending new instructions is trivial\n",
    "* adding two Ansaetze (or even other objects, e.g. `QuantumCircuit` or `Gate`) is straightforward: just add the respective lists of gates, the indices, reps, and the parameters\n",
    "* barriers are easily inserted in between the layers"
   ]
  },
  {
   "cell_type": "markdown",
   "metadata": {
    "slideshow": {
     "slide_type": "subslide"
    }
   },
   "source": [
    "#### Technical Issues\n",
    "\n",
    "* same issue as with `Gate`s to insert a new gate somewhere inside a layer"
   ]
  },
  {
   "cell_type": "markdown",
   "metadata": {
    "slideshow": {
     "slide_type": "fragment"
    }
   },
   "source": [
    "#### Design Issues\n",
    "\n",
    "* this implements a parallel structure of functionalities that might go into Terra anyways"
   ]
  },
  {
   "cell_type": "markdown",
   "metadata": {
    "slideshow": {
     "slide_type": "slide"
    }
   },
   "source": [
    "## Conclusion: Suggested design\n",
    "\n",
    "Ansatz as `QuantumCircuit` is not suitable: not the same performance benefit as the other designs, loose information of user input, `construct_circuit` is miselading. \n",
    "Using `Gate`s instead seems very convenient, conceptually and from an implementation point of view. If the Ansatz interally maintains a `Gate` (vs. being derived from it) gives us better control of the user information and naturally gives a sense of layers. \n",
    "\n",
    "**Suggestion** Use design #2, and implement it as the Ansatz internally maintaining a `Gate`, but feeling like one. "
   ]
  },
  {
   "cell_type": "markdown",
   "metadata": {
    "slideshow": {
     "slide_type": "slide"
    }
   },
   "source": [
    "## (Previously called) Variational forms <a id=\"varforms\"></a>"
   ]
  },
  {
   "cell_type": "markdown",
   "metadata": {
    "slideshow": {
     "slide_type": "subslide"
    }
   },
   "source": [
    "### Backward compatibility\n",
    "\n",
    "Does Ansatz provide all functionalities of the current `VariationalForm`? "
   ]
  },
  {
   "cell_type": "markdown",
   "metadata": {
    "slideshow": {
     "slide_type": "fragment"
    }
   },
   "source": [
    "Almost.\n",
    "\n",
    "Missing:\n",
    "* `num_parameters`\n",
    "* `setting(self)`\n",
    "* `parameter_bounds(self)`\n",
    "* `depth`"
   ]
  },
  {
   "cell_type": "markdown",
   "metadata": {
    "slideshow": {
     "slide_type": "subslide"
    }
   },
   "source": [
    "#### `setting`\n",
    "\n",
    "Prints a formatted version of `self.__dict__`.  This can be replaced by implementing `__rep__` and thus, `setting` can be removed."
   ]
  },
  {
   "cell_type": "markdown",
   "metadata": {
    "slideshow": {
     "slide_type": "subslide"
    }
   },
   "source": [
    "#### `support_parameterized_circuit`\n",
    "\n",
    "This is necessary since Terra doesn't allow to bind complex values to a `Parameter` object. Once this is allowed, the `support_parameterized_circuit` attribute can be removed."
   ]
  },
  {
   "cell_type": "markdown",
   "metadata": {
    "slideshow": {
     "slide_type": "subslide"
    }
   },
   "source": [
    "#### `parameter_bounds`\n",
    "\n",
    "The `parameter_bounds` are supposed to be the valid ranges for the parameters of an Ansatz. They can be forwarded to an optimizer to limit the search range and, thus, improve performance.\n",
    "\n",
    "An issue with allowing this attribute is that it suggests the Ansatz will enforce the parameter bounds to be respected. However, this is not correct.\n",
    "\n",
    "Possible options:\n",
    "\n",
    "1. Keep the attribute and give a warning, that the bounds are not enforced. Here we have two choices:\n",
    "    1. the bounds are an attribute of the Ansatz itself\n",
    "    1. the bound on a parameter is an attribute of the parameter itself. The Ansatz forwards parameter bounds it gets to its parameters, and if asked for bounds, the Ansatz asks the parameters.\n",
    "1. Generate the parameter bounds on demand, based on the gates the Ansatz contains. If the standard gates knew their parameter range for optimization, this could be solved elegantly.\n",
    "    1. Issue: the standard gates providing bounds is dangerous, as periodicity might be a feature we want to use, or the gate angle is subject to a coefficient invalidating the ranges."
   ]
  },
  {
   "cell_type": "markdown",
   "metadata": {
    "slideshow": {
     "slide_type": "subslide"
    }
   },
   "source": [
    "#### `depth`\n",
    "\n",
    "This equals the `reps` keyword of `Ansatz`. Both `VariationalForm` and `FeatureMap` use the word `depth` instead. Depth however, is ambiguous and could also refer to the circuit depth instead of the number of layers. \n",
    "Using `reps` instead of `depth` in the future is therefore desirable. With a deprectation warning the attribute `depth` can still be supported for a while. \n",
    "\n",
    "Another possible use of `depth` could be the following. One restriction on current hardware is the depth of the circuit to be simulated. To easily create Ansaetze of feasible circuit depth, the `depth` attribute could specify the maximum depth of the Ansatz. Instead of repeating the input gates _x_ times, we could repeat them until the maximum depth is reached."
   ]
  },
  {
   "cell_type": "markdown",
   "metadata": {
    "slideshow": {
     "slide_type": "slide"
    }
   },
   "source": [
    "## TwoLocalGateAnsatz"
   ]
  },
  {
   "cell_type": "markdown",
   "metadata": {
    "slideshow": {
     "slide_type": "subslide"
    }
   },
   "source": [
    "### Requirement recap\n",
    "\n",
    "Input: number of qubits, one qubit gate(s), two qubit gate(s), depth/reps, entanglement, skip_unentangled_qubits, skip_final_rotation, (initial state?)\n",
    "\n",
    "Output: the specified Ansatz"
   ]
  },
  {
   "cell_type": "markdown",
   "metadata": {
    "slideshow": {
     "slide_type": "subslide"
    }
   },
   "source": [
    "### Implementation proposal\n",
    "\n",
    "In the initializer, build the rotation and entanglement gates from the single- and two-qubit gates and the entanglement information. From the depth/reps set up the correct repetition indices. In `construct_circuit`, build the circuit. Theoretically, the `construct_circuit` of the `Ansatz` class can be used.\n",
    "\n",
    "Hence derivation is sensible."
   ]
  },
  {
   "cell_type": "code",
   "execution_count": null,
   "metadata": {},
   "outputs": [],
   "source": [
    "class TwoLocalGateAnsatz(Ansatz)"
   ]
  },
  {
   "cell_type": "markdown",
   "metadata": {
    "slideshow": {
     "slide_type": "subslide"
    }
   },
   "source": [
    "#### Points to discuss\n",
    "\n",
    "* Should the keywords `entanglement` and `entangler_map` be merged to `entanglement`?\n",
    "* Deprecate the `initial_state` keyword?"
   ]
  },
  {
   "cell_type": "markdown",
   "metadata": {
    "slideshow": {
     "slide_type": "subslide"
    }
   },
   "source": [
    "Should the keywords `entanglement` and `entangler_map` be merged to `entanglement`?"
   ]
  },
  {
   "cell_type": "markdown",
   "metadata": {
    "slideshow": {
     "slide_type": "fragment"
    }
   },
   "source": [
    "#### Pro\n",
    "\n",
    "* Having multiple keywords forces the code to decide which keyword overrules which. This can be opaque to the user. If we don't enforce a \"keyword hierarchy\", we could throw errors if multiple are set. (And who likes runtime errors?) \n",
    "* Assume we add a new possible input type, e.g. `Callable`. Then we would require yet another keyword and choose which keyword is actually active if multiple are set. With one keyword only, we just have to add an `isinstance` if-statement (which we anyways need).\n",
    "* The user doesn't need to think about which keyword he needs to use for the entanglement input, whether it is specified via string or pairs of qubits."
   ]
  },
  {
   "cell_type": "markdown",
   "metadata": {
    "slideshow": {
     "slide_type": "fragment"
    }
   },
   "source": [
    "#### Contra\n",
    "\n",
    "* The signature doesn't clearly show what input types of entanglement exist. (Then again, there is such a thing as docstrings.)"
   ]
  },
  {
   "cell_type": "markdown",
   "metadata": {
    "slideshow": {
     "slide_type": "subslide"
    }
   },
   "source": [
    "**Conclusion** Yes, merge `entanglement` and `entangler_map` in `entanglement`."
   ]
  },
  {
   "cell_type": "markdown",
   "metadata": {
    "slideshow": {
     "slide_type": "slide"
    }
   },
   "source": [
    "## Standard Ansaetze<a id='standard_varforms'></a>\n",
    "\n",
    "Such forms as `RY` or `RYRZ`."
   ]
  },
  {
   "cell_type": "markdown",
   "metadata": {
    "slideshow": {
     "slide_type": "subslide"
    }
   },
   "source": [
    "### Implementation proposal #1\n",
    "\n",
    "As subclass of `TwoLocalGateAnsatz`."
   ]
  },
  {
   "cell_type": "markdown",
   "metadata": {
    "slideshow": {
     "slide_type": "fragment"
    }
   },
   "source": [
    "#### Advantages\n",
    "\n",
    "* super easy to implement\n",
    "* natural design: The standard Ansaetze are specifications of the two-local gate ansatz, obtained by fixing the single qubit gate and providing a default two qubit gate."
   ]
  },
  {
   "cell_type": "markdown",
   "metadata": {
    "slideshow": {
     "slide_type": "fragment"
    }
   },
   "source": [
    "#### Issues\n",
    "\n",
    "* adds another level of inheritance\n",
    "* `RY(Ansatz)` is elegant to read, since `RY` is just an Ansatz"
   ]
  },
  {
   "cell_type": "markdown",
   "metadata": {
    "slideshow": {
     "slide_type": "subslide"
    }
   },
   "source": [
    "### Implementation proposal #2\n",
    "\n",
    "As subclass of `Ansatz`, using `TwoLocalGateAnsatz` as component."
   ]
  },
  {
   "cell_type": "markdown",
   "metadata": {
    "slideshow": {
     "slide_type": "fragment"
    }
   },
   "source": [
    "#### Advantages\n",
    "\n",
    "* `RY(Ansatz)` is intuitive to read\n",
    "* no new level of inheritance"
   ]
  },
  {
   "cell_type": "markdown",
   "metadata": {
    "slideshow": {
     "slide_type": "fragment"
    }
   },
   "source": [
    "#### Issues\n",
    "\n",
    "* probably need to wrap all functions of `TwoLocalGateAnsatz`"
   ]
  },
  {
   "cell_type": "markdown",
   "metadata": {
    "slideshow": {
     "slide_type": "subslide"
    }
   },
   "source": [
    "### Conclusion\n",
    "\n",
    "Inheritance is easier to implement and reading `RY(TwoLocalGateAnsatz)` is still comprehensible.\n",
    "Therefore, choose inheritance over composition."
   ]
  },
  {
   "cell_type": "code",
   "execution_count": null,
   "metadata": {
    "slideshow": {
     "slide_type": "fragment"
    }
   },
   "outputs": [],
   "source": [
    "class RY(TwoLocalGateAnsatz):\n",
    "    def __init__(self, ...):  # repeat all keywords here to enable IDE detection\n",
    "        super().__init__(single_qubit_gate='ry', ...)"
   ]
  },
  {
   "cell_type": "code",
   "execution_count": null,
   "metadata": {
    "slideshow": {
     "slide_type": "fragment"
    }
   },
   "outputs": [],
   "source": [
    "class RYRZ(TwoLocalGateAnsatz):\n",
    "    def __init__(self, ...):\n",
    "        super().__init__(single_qubit_gate=['ry', 'rz'], ...)"
   ]
  },
  {
   "cell_type": "markdown",
   "metadata": {
    "slideshow": {
     "slide_type": "slide"
    }
   },
   "source": [
    "## Feature maps <a id=\"featmaps\"></a>"
   ]
  },
  {
   "cell_type": "markdown",
   "metadata": {
    "slideshow": {
     "slide_type": "subslide"
    }
   },
   "source": [
    "### Backward compatibility\n",
    "\n",
    "Does Ansatz provide all functionalities of the current `FeatureMap`? "
   ]
  },
  {
   "cell_type": "markdown",
   "metadata": {
    "slideshow": {
     "slide_type": "fragment"
    }
   },
   "source": [
    "Yes -- except `self.feature_dimension`."
   ]
  },
  {
   "cell_type": "markdown",
   "metadata": {
    "slideshow": {
     "slide_type": "subslide"
    }
   },
   "source": [
    "#### `feature_dimension`\n",
    "\n",
    "Possible solutions include\n",
    "\n",
    "* New class `FeatureMap(Ansatz)`: An additional class for just one new method, that exists under another name, is not really justified.\n",
    "\n",
    "* Add the method `feature_dimension` to `Ansatz`: If Ansatz is not used as replacement of current feature maps this method remains unused.\n",
    "\n",
    "* Deprecate `feature_dimension`, use `num_parameters` instead: Deprecating `feature_dimension` is probably not a good idea, since it is a legitimate attribute of a feature map."
   ]
  },
  {
   "cell_type": "markdown",
   "metadata": {
    "slideshow": {
     "slide_type": "fragment"
    }
   },
   "source": [
    "**Conclusion** The best solution seems to be adding, but deprecating, the `feature_dimension` method."
   ]
  },
  {
   "cell_type": "markdown",
   "metadata": {
    "slideshow": {
     "slide_type": "subslide"
    }
   },
   "source": [
    "### Implementation proposal\n",
    "\n",
    "The hierarchy within the \"feature map\" branch should be the same as for the \"variational form\" branch. Meaning, we implement a `PauliExpression` and the specialized classes as derived objects. This design is also the current form."
   ]
  },
  {
   "cell_type": "markdown",
   "metadata": {
    "slideshow": {
     "slide_type": "subslide"
    }
   },
   "source": [
    "However -- is the additional layer `PauliZExpansion` truly necessary?"
   ]
  },
  {
   "cell_type": "code",
   "execution_count": null,
   "metadata": {
    "slideshow": {
     "slide_type": "fragment"
    }
   },
   "outputs": [],
   "source": [
    "def __init__(self, feature_dimension, depth=2, entangler_map=None, entanglement='full', z_order=2, \n",
    "            data_map_func=self_product):\n",
    "    pauli_string = []\n",
    "    for i in range(1, z_order + 1):\n",
    "        pauli_string.append('Z' * i)\n",
    "    super().__init__(..., paulis=pauli_string)"
   ]
  },
  {
   "cell_type": "markdown",
   "metadata": {
    "slideshow": {
     "slide_type": "-"
    }
   },
   "source": [
    "Later on used in the definition of the first- and second-order expansions."
   ]
  },
  {
   "cell_type": "code",
   "execution_count": null,
   "metadata": {
    "slideshow": {
     "slide_type": "-"
    }
   },
   "outputs": [],
   "source": [
    "class FirstOrderExpansion(PauliZExpansion):  # resp. SecondOrderExpansion\n",
    "    def __init__(self, feature_dimension, depth=2, data_map_func=self_product):\n",
    "        super().__init__(..., z_order=1)  # resp. z_order=2"
   ]
  },
  {
   "cell_type": "markdown",
   "metadata": {
    "slideshow": {
     "slide_type": "subslide"
    }
   },
   "source": [
    "#### Pro\n",
    "\n",
    "* simplifies the definition of Pauli Z expansion feature maps (such as `First/SecondOrderExpansion`)"
   ]
  },
  {
   "cell_type": "markdown",
   "metadata": {
    "slideshow": {
     "slide_type": "fragment"
    }
   },
   "source": [
    "#### Contra\n",
    "\n",
    "* introduces an additional layer of inheritance\n",
    "* if `First/SecondOrderExpansion` is the main motivation for this class, then the two minor changes they introduce is probably not worth introducing the `PauliZExpansion`"
   ]
  },
  {
   "cell_type": "markdown",
   "metadata": {
    "slideshow": {
     "slide_type": "slide"
    }
   },
   "source": [
    "## Initial states\n",
    "\n",
    "The `InitialState` class allows to obtain circuits that prepare certain (fixed) states. Currently, these include a the zero-state, a uniform superposition, the preparation of a specified statevector, or the an Ansatz with certain parameters.\n",
    "\n",
    "A fixed circuit is merely a special case of a Ansatz with zero parameters, thus, the initial states can be seen as Ansaetze. \n",
    "\n",
    "However, all the parameter business and repeating is not needed for an initial state object and we could probably simplify the object. Also the initial state includes some functionalities (as statevector preparation) that an Ansatz doesn't. Thus, it might be less confusing for the user to keep the `InitialState` object. "
   ]
  },
  {
   "cell_type": "markdown",
   "metadata": {
    "slideshow": {
     "slide_type": "slide"
    }
   },
   "source": [
    "## Uncertainty models\n",
    "\n",
    "Uncertainty models (UM) encode their underlying probability distribution in the amplitude of the qubits, i.e. they perform the mapping\n",
    "\n",
    "$$\n",
    "|0\\rangle_n \\mapsto \\mathcal P_X |0\\rangle_n = \\sum_{x} \\sqrt{p_x} |x\\rangle_n.\n",
    "$$\n",
    "\n",
    "In this sense they could also fall in the category of an Ansatz with empty parameter set, i.e. an initial state.\n",
    "\n",
    "However, to set up the UM for an arbitrary probability distribution they must be trained (e.g. via qGANs). To this end, they accept an Ansatz  $V(\\theta)$ and tune the parameters until the operator $\\mathcal P_X$ is approximated well enough. \n",
    "\n",
    "Hence, they should not be an Ansatz, but rather use on as component. "
   ]
  },
  {
   "cell_type": "markdown",
   "metadata": {},
   "source": [
    "# Notes from the design review\n",
    "\n",
    "Notetaker/Steering: Donny\n",
    "\n",
    "### High-level Impressions\n",
    "* Kevin (@kdk)\n",
    "    * Terra can help in some areas, e.g. Barriers for print but not transpilation\n",
    "    * Should clarify what the Terra objects under the hood will be, or hide them, so as not to confuse users\n",
    "    * Should think harder about eager transpilation timing, so transpile only happens when we know about the backend\n",
    "* Stefan (@stefan-woerner )\n",
    "    * What is the difference between the three types of terra circuits?\n",
    "    * Transpilation - there is a difference between optimizing the gate and transpiling for hardware\n",
    "    * Initialstate, UncertaintyModel - All overlapping, should be made the same\n",
    "* Panos (@pbark )\n",
    "    * Transpilation - Not doable to do pre-transpilation, because it depends on the parameters. Would be hard if doable.\n",
    "    * Agrees with Stefan that more thought needs to go into organizing Featuremaps, InitialState, etc.\n",
    "    * Inserting parameters will be difficult and maybe overly complicated\n",
    "* Christa (@Zoufalc )   \n",
    "    * We need the gate insertion for gradients\n",
    "    * Initial state and uncertainty problem isn’t really an ansatz, it’s just a fixed circuit\n",
    "* Ali (@ajavadia )\n",
    "    * Implementation - Should this just be derived from QuantumCircuit, or gate or something else, because it has a lot of overlapping functionality (append, etc.)?\n",
    "    * Difference between circuit, gate, instr - On our radar. Transpiling only one section of a gate should work by transpiling a circuit, and then calling to_gate(), and using that as is.\n",
    "    * Steve (@woodsp-ibm )\n",
    "    * Originally, Aqua came from a place where components were each pieces of circuits. We didn’t care what was under the hood, but want a consistent interface. Whatever we do here should be the same in the all the components.\n",
    "    * It’s good to have common classes, but not necessary to mush everything, e.g. InitialState, together into one class just to say we did.\n",
    "    * Parameters, transpile - if it’s not necessary to pass hardware information we shouldn’t. It would be better to just pass the user a circuit and have them transpile.\n",
    "    * Mutability - If I have an Ansatz and do an append, will the algorithm understand? If you want to build an ansatz, can you just stack some together, instead of building complicated functionality to modify?\n",
    "* Donny (@dongreenberg )\n",
    "    * Like that the purpose of the Anastz as a thing that provides a service of repeating gates, and like Ali’s point that maybe this is just a sparse representation of a circuit.\n",
    "Context on transpile - when we got rid of caching, we started trying to do this eager transpile.\n",
    "\n",
    "### Quick walkthrough of the main ideas + open questions\n",
    "* Julien (@Cryoris)  \n",
    "    * Philosophy: Python is a language with lots of syntactic sugar and just works, and wanted to see that in the ansatz.\n",
    "    * Wanted things to be easy to understand across Aqua, where if you understand the Ansatz you realize that you understand the  Featuremap and other too\n",
    "    * Backward compatibility must be maintained\n",
    "    * Combining things - InitialState, FeatureMap, etc. motivation is just to simplify these to make them familiar.\n",
    "\n",
    "    \n",
    "* Questions\n",
    "    * Bounds - The Ansatz has bounds, but doesn’t enforce them. Should a gate have bounds?\n",
    "        * **Unresolved, table for later**\n",
    "    * Can we support a “parameterized_circuit” property in the gate?\n",
    "        * Kevin: yes\n",
    "    * Inherit or hold Circuit / Gate / Instruction?\n",
    "        * **Table for later**\n",
    "\n",
    "### Ratings\n",
    "* All - Conditionally Approve, pending resolving Circuit inheritance vs. encapsulation discussion.\n",
    "\n",
    "After follow up discussion, it was decided for the Ansatz to hold a gate or circuit, rather than inherit from Gate or QuantumCircuit, to allow for some flexibility as this design settles (inheritance introduces strong coupling which is hard to extricate later), and to allow for diverse Ansatze, such as linear combinations of circuits, not-gate.\n",
    "\n",
    "**Final rating: Approved**"
   ]
  },
  {
   "cell_type": "markdown",
   "metadata": {},
   "source": [
    "# How would the Ansatz turn out?\n",
    "\n",
    "Here's a code skeleton of the `Ansatz` class wrapping a gate, along with how this design would fit in the workflow of Aqua. \n",
    "This is just an interface."
   ]
  },
  {
   "cell_type": "code",
   "execution_count": 16,
   "metadata": {},
   "outputs": [],
   "source": [
    "from qiskit import QuantumCircuit\n",
    "from qiskit.circuit import Gate\n",
    "\n",
    "class Ansatz:\n",
    "    def __init__(self, gates, qargs=None):\n",
    "        pass  # include the setup functionalities as discussed in this document\n",
    "    \n",
    "    @property\n",
    "    def num_qubits(self):\n",
    "        return self._gate.num_qubits\n",
    "    \n",
    "    @property\n",
    "    def params(self):\n",
    "        return self._gate.params\n",
    "    \n",
    "    @params.setter\n",
    "    def params(self, params):\n",
    "        self._gate.params = params\n",
    "            \n",
    "    def control(self, num_ctrl_qubits=1, label=None):\n",
    "        return self._gate.control(num_ctrl_qubits, label)\n",
    "    \n",
    "    def repeat(self, n):\n",
    "        return self._gate.repeat(n)\n",
    "    \n",
    "    def inverse(self):\n",
    "        return self._gate.inverse()\n",
    "    \n",
    "    def copy(self):\n",
    "        \"\"\"Get a copy of self. Can be used to append a copy of self to a QuantumCircuit.\"\"\"\n",
    "        return copy.deepcopy(self)\n",
    "    \n",
    "    def to_instruction(self):\n",
    "        \"\"\"To support QuantumCircuit.append(this)\"\"\"\n",
    "        return self._gate  \n",
    "    \n",
    "    # potentially\n",
    "    @property\n",
    "    def definition(self):\n",
    "        return self._gate.definition"
   ]
  },
  {
   "cell_type": "markdown",
   "metadata": {},
   "source": [
    "### Amplitude Estimation\n",
    "\n",
    "Using the `Gate` interface also for Amplitude estimation's $\\mathcal A$ operator, we would write the algorithm as follows."
   ]
  },
  {
   "cell_type": "code",
   "execution_count": null,
   "metadata": {},
   "outputs": [],
   "source": [
    "A, Q = AOperator(...), QOperator(...) # A and Q support all Gate functionality\n",
    "\n",
    "m = 3\n",
    "i_objective = m\n",
    "ae = QuantumCircuit(m + 1)\n",
    "\n",
    "# initial A operator\n",
    "ae.append(A, qargs=[i_objective])  \n",
    "\n",
    "# Q operators\n",
    "for mi in range(m):\n",
    "    ae.barrier()\n",
    "    ae.append(Q.repeat(2**mi).control(), qargs=[mi, i_objective])\n",
    "    \n",
    "# final fourier transform, this should also behave like a Gate\n",
    "ae.append(Standard(m), qargs=list(range(m)))"
   ]
  },
  {
   "cell_type": "markdown",
   "metadata": {},
   "source": [
    "Replacing the $\\mathcal A$ operator with a `Gate`-interface leads to the following changes and replacements summarized in this table.\n",
    "\n",
    "\n",
    "| before | now|\n",
    "| :- | :- |\n",
    "| inherit from `CircuitFactory` | inherit from `Gate` |\n",
    "| overwrite `build(self, qc, q)` | overwrite `_define(self)` |\n",
    "| `build_inverse()` | `inverse()` |\n",
    "| `build_power(n)` | `repeat(n)` |\n",
    "| `build_controlled()` | `control()` |\n",
    "| `build_controlled_power(n)` | `repeat(n).control()` <br> specialized doesn't exist yet: add `controlled_power` |\n",
    "| `a_factory.build(qc, q)` | `qc.append(a_operator, indices, [])` <br> or `qc += a_operator.to_circuit()` |\n",
    "\n",
    "The following cell shows an example code skeleton for the $\\mathcal A$ operator and concrete implementations of such operators used in AE. Since the $\\mathcal A$ operator has barely any functionality on top of the `Gate` methods, it is sensible to directly derive it from the `Gate` class."
   ]
  },
  {
   "cell_type": "code",
   "execution_count": null,
   "metadata": {},
   "outputs": [],
   "source": [
    "class AOperator(Gate):\n",
    "    def __init__(self):\n",
    "        pass  \n",
    "    \n",
    "    def value_to_estimation(self, value):\n",
    "        return value  # not doing anything by default\n",
    "        \n",
    "        \n",
    "class BernoulliAOperator(AOperator):\n",
    "    def __init__(self, probability):\n",
    "        self._probability = probability\n",
    "        \n",
    "    def _define(self):  # this was previously in the build method\n",
    "        circuit = QuantumCircuit(1)\n",
    "        circuit.ry(probability, 0)\n",
    "        self._definition = circuit.data\n",
    "        \n",
    "        \n",
    "class LinearYRotation(Gate):\n",
    "    def __init__(self, slope, offset, num_state_qubits, i_state=None, i_target=None):\n",
    "        pass  # define self.i_state, self.i_target\n",
    "    \n",
    "    def _define(self):\n",
    "        circuit = QuantumCircuit(max([self.i_target] + self.i_state[:]))\n",
    "        circuit.ry(self.offset, i_target)\n",
    "        for power, i in enumerate(i_state):\n",
    "            circuit.cry(self.slope * 2**power, i, i_target)\n",
    "        self._definition = circuit.data\n",
    "        \n",
    "        \n",
    "class MyFunction(AOperator):\n",
    "    def __init__(self, c_approx, num_state_qubits):\n",
    "        pass  # define self.slope, self.offset, self.num_state_qubits\n",
    "        \n",
    "    def _define(self):\n",
    "        circuit = QuantumCircuit(self.num_state_qubits + 1)\n",
    "        linear_y = LinearYRotation(self.slope, self.offset, self.num_state_qubits)\n",
    "        circuit.append(linear_y, list(range(self.num_state_qubits + 1)), [])\n",
    "        circuit.z(num_state_qubits)\n",
    "        circuit.append(linear_y.inverse(), list(range(self.num_state_qubits + 1)), [])\n",
    "        self._definition = circuit.data"
   ]
  },
  {
   "cell_type": "markdown",
   "metadata": {},
   "source": [
    "### Uncertainty Model\n",
    "\n",
    "Uncertainty models in Aqua allow us to load a discretized probability distribution in the amplitudes of qubits. Currently, they are implemented as `CircuitFactory`, but should follow the same flow as the Ansatz and amplitude estimation's $\\mathcal A$ operator."
   ]
  },
  {
   "cell_type": "code",
   "execution_count": null,
   "metadata": {},
   "outputs": [],
   "source": [
    "class UnivariateDistribution(Gate): \n",
    "    def __init__(self, num_uncertainty_qubits):\n",
    "        self._definition = Custom(...).definition\n",
    "        \n",
    "    @property\n",
    "    def low(self): # also implement: high, num_values, values, probabilities\n",
    "        pass\n",
    "    \n",
    "    @staticmethod\n",
    "    def pdf_to_probabilities(self):\n",
    "        pass\n",
    "\n",
    "class UnivariateVariationalDistribution(UnivariateDistribution, Ansatz):  # use case? UVD as Ansatz\n",
    "    def __init__(self, ansatz):\n",
    "        self._definition = ansatz.definition  # or ansatz.to_instruction().definition or such\n",
    "\n",
    "    def set_probabilities(self):\n",
    "        pass"
   ]
  },
  {
   "cell_type": "markdown",
   "metadata": {},
   "source": [
    "Application of uncertainty models on QGANs:"
   ]
  },
  {
   "cell_type": "code",
   "execution_count": null,
   "metadata": {},
   "outputs": [],
   "source": [
    "qgan = QGAN(real_data, bounds, num_qubits)\n",
    "distribution = UnivariateVariationalDistribution(some_ansatz)\n",
    "qgan.set_generator(distribution)"
   ]
  },
  {
   "cell_type": "markdown",
   "metadata": {},
   "source": [
    "Application to a circuit:"
   ]
  },
  {
   "cell_type": "code",
   "execution_count": null,
   "metadata": {},
   "outputs": [],
   "source": [
    "distribution = NormalDistribution(num_uncertainty_qubits=4, mu=0, sigma=1)\n",
    "circuit.append(distribution, list(range(num_uncertainty_qubits)))"
   ]
  },
  {
   "cell_type": "markdown",
   "metadata": {},
   "source": [
    "### Advanced amplitude estimation example: Ansatz + uncertainty model + function mapping\n",
    "\n",
    "\n",
    "This is an example combining an ansatz, an uncertainty model plus the mapping of a linear function in an amplitude estimation experiment. Here, the ansatz can encode optimization variable and the uncertainty model could represent a probability distribution."
   ]
  },
  {
   "cell_type": "code",
   "execution_count": null,
   "metadata": {},
   "outputs": [],
   "source": [
    "n = 3  # qubits for the uncertainty model\n",
    "k = 3  # qubits for the Ansatz\n",
    "\n",
    "prob = NormalDistribution(n, mu, sigma)  \n",
    "varform = RY(k, entanglement='linear', reps=2)\n",
    "\n",
    "# either encapsulate the logic in a fixed class derived from AOperator\n",
    "a_operator = MyAOperator(prob, varform)\n",
    "\n",
    "# or do directly what would be done in MyAOperator\n",
    "f_mapping = MyFunction(n, k)\n",
    "a_circuit = QuantumCircuit(n + k + 1)\n",
    "a_circuit.append(prob, prob_indices)\n",
    "a_circuit.append(varform, varform_indices)\n",
    "a_circuit.append(f_mapping, f_indices)\n",
    "a_operator = AOperator(a_circuit)\n",
    "\n",
    "# or do the application of the cost function more explicitely\n",
    "a_circuit = QuantumCircuit(n + k + 1)\n",
    "a_circuit.append(prob, prob_indices)\n",
    "a_circuit.append(varform, varform_indices)\n",
    "# apply the mapping F directly\n",
    "for i in range(n):\n",
    "    a_circuit.ry(angle, i) \n",
    "# etc.\n",
    "a_operator = AOperator(a_circuit)\n",
    "\n",
    "# or maybe even use the Ansatz constructor facilities?\n",
    "f_mapping = MyFunction(n, k)\n",
    "prob_indices, varform_indices, f_indices = list(range(n)), list(range(n, n + k)), list(range(n + k + 1))\n",
    "a_as_ansatz = Ansatz([prob, varform, a_operator], [prob_indices, varform_indices, f_indices])\n",
    "a_operator = AOperator(a_as_ansatz.to_circuit()) \n",
    "\n",
    "# then go about calling AE\n",
    "ae = AmplitudeEstimation(m, a_operator)"
   ]
  },
  {
   "cell_type": "markdown",
   "metadata": {},
   "source": [
    "### VQE\n",
    "\n",
    "Under the hood, not much would change in the VQE algorithm. We are more flexible in how to use the Ansatz though. Depending on if we implement a `to_circuit` method (which seems very useful at the moment) the changes boil down to using `ansatz.to_circuit(params)` instead of `var_form.construct_circuit(params)`."
   ]
  },
  {
   "cell_type": "code",
   "execution_count": null,
   "metadata": {},
   "outputs": [],
   "source": [
    "def VQAlgorithm(QuantumAlgorithm):\n",
    "    # no changes at all\n",
    "    pass"
   ]
  },
  {
   "cell_type": "code",
   "execution_count": null,
   "metadata": {},
   "outputs": [],
   "source": [
    "def VQE(VQAlgorithm):\n",
    "    def __init__(self, var_form: Ansatz):\n",
    "        # only change: either add a preferred_init_points method to Ansatz, or accept such a kwarg in VQE\n",
    "    \n",
    "    def construct_circuit(self):\n",
    "        # we could do\n",
    "        wave_function = self._var_form.to_circuit(parameter)\n",
    "        \n",
    "        # or\n",
    "        self._var_form.params = parameter\n",
    "        wave_function = self._var_form.to_circuit() \n",
    "        \n",
    "        # or\n",
    "        self._var_form.params = parameter\n",
    "        wave_function = QuantumCircuit(self._var_form.num_qubits)\n",
    "        wave_function.append(self._varform, list(range(self._var_form.num_qubits)))\n",
    "        \n",
    "        # rest of the implementation...\n",
    "        pass\n",
    "    \n",
    "    def _eval_aux_ops(self):\n",
    "        if params is None:\n",
    "            params = self.optimal_params\n",
    "        self._var_form.params = parameter\n",
    "        wavefn_circuit = QuantumCircuit(self._var_form.num_qubits)\n",
    "        wavefn_circuit.append(self._varform, list(range(self._var_form.num_qubits)))   \n",
    "        \n",
    "    def _energy_evaluation(self, parameters):\n",
    "        # parameterized circuits should be supported completely (Terra will implement support for complex values)\n",
    "        # otherwise this is supported exactly the same as before\n",
    "        \n",
    "    def get_optimal_circuit(self):\n",
    "        self._var_form.params = self._ret['opt_params']\n",
    "        circuit = QuantumCircuit(self._var_form.num_qubits)\n",
    "        circuit.append(self._varform, list(range(self._var_form.num_qubits)))\n",
    "        return circuit"
   ]
  }
 ],
 "metadata": {
  "celltoolbar": "Slideshow",
  "kernelspec": {
   "display_name": "Python 3",
   "language": "python",
   "name": "python3"
  },
  "language_info": {
   "codemirror_mode": {
    "name": "ipython",
    "version": 3
   },
   "file_extension": ".py",
   "mimetype": "text/x-python",
   "name": "python",
   "nbconvert_exporter": "python",
   "pygments_lexer": "ipython3",
   "version": "3.6.10"
  },
  "pycharm": {
   "stem_cell": {
    "cell_type": "raw",
    "metadata": {
     "collapsed": false
    },
    "source": []
   }
  }
 },
 "nbformat": 4,
 "nbformat_minor": 2
}
