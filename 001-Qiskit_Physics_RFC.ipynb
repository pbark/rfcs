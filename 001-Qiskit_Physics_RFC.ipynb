{
 "cells": [
  {
   "cell_type": "markdown",
   "metadata": {},
   "source": [
    "# Aqua 0.7: Qiskit Physics Design Doc\n",
    "\n",
    "| **Status**        | **Accepted** |\n",
    "|:------------------|:---------------------------------------------|\n",
    "| **RFC #**         | 0001                                         |\n",
    "| **Authors**       | Panos, Donny, Steve, Ivano                   |\n",
    "| **Submitted**     | 2020-01-06                                   |\n",
    "| **Updated**       | 2020-01-24                                   |"
   ]
  },
  {
   "cell_type": "code",
   "execution_count": null,
   "metadata": {},
   "outputs": [],
   "source": []
  }
 ],
 "metadata": {
  "kernelspec": {
   "display_name": "Python [conda env:bpa_python36] *",
   "language": "python",
   "name": "conda-env-bpa_python36-py"
  },
  "language_info": {
   "codemirror_mode": {
    "name": "ipython",
    "version": 3
   },
   "file_extension": ".py",
   "mimetype": "text/x-python",
   "name": "python",
   "nbconvert_exporter": "python",
   "pygments_lexer": "ipython3",
   "version": "3.6.10"
  }
 },
 "nbformat": 4,
 "nbformat_minor": 2
}
