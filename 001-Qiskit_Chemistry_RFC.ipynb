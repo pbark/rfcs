{
 "cells": [
  {
   "cell_type": "markdown",
   "metadata": {
    "slideshow": {
     "slide_type": "slide"
    }
   },
   "source": [
    "# Aqua 0.7: Qiskit Chemistry Re-Design Doc\n",
    "\n",
    "| **Status**        | **Accepted** |\n",
    "|:------------------|:---------------------------------------------|\n",
    "| **RFC #**         | 0001                                         |\n",
    "| **Authors**       | Panos, Donny, Steve, Ivano                   |\n",
    "| **Submitted**     | 2020-01-06                                   |\n",
    "| **Updated**       | 2020-01-24                                   |"
   ]
  },
  {
   "cell_type": "markdown",
   "metadata": {
    "slideshow": {
     "slide_type": "slide"
    }
   },
   "source": [
    "## Purpose\n",
    "\n",
    "To define a hierarchical and Pythonic interface for Chemistry Quantum Algorithms & Applications (QA&A) research computation in Qiskit. Specifically, we define Chemistry to be the computation of electronic and thermodynamic observables."
   ]
  },
  {
   "cell_type": "markdown",
   "metadata": {
    "slideshow": {
     "slide_type": "slide"
    }
   },
   "source": [
    "## Background\n",
    "\n",
    "* Qiskit Chemistry is a widely used library today for a core set of Chemistry (QA&A) tasks. It was rapidly built to be able to execute this core set of tasks, but now is moving into a stage where it requires more flexibility and extensibility.\n",
    "* The core activity in Qiskit Chemistry today is the computation of molecular ground state energies, usually with VQE and often UCCSD. Other core features include interfacing with classical software to compute electronic structure observables, mapping fermionic operators to qubit operators in various ways, tapering symmetries from qubit operators, and computing excited states with the EOM."
   ]
  },
  {
   "cell_type": "markdown",
   "metadata": {
    "slideshow": {
     "slide_type": "slide"
    }
   },
   "source": [
    "## Core Features and Object Model\n",
    "\n",
    "We've divided the Chemistry stack in four core areas, and introduced the concept of an _application_ (shown italicised below):\n",
    "\n",
    "* Electronic Structure\n",
    "    * _GroundStateEnergy_, ExcitedStates (EOM), electronic structure observables\n",
    "* Vibronic Structure\n",
    "    * _VibrationalModes_ (inc. Vibrational Frequencies), Nuclear Wavefunction\n",
    "* Thermodynamics\n",
    "    * _Partition Function_, Thermodynamic Observables\n",
    "* Molecular Dynamics (after 0.7 release) \n",
    "\n",
    "Core objects:\n",
    "* Molecule - Contains geometry, basis, degrees of freedom, other info (mass, charge, spin, etc.).\n",
    "* Driver - Interface object with classical software to compute electronic structure observables.\n",
    "* FermionicOperator - Constructed from Physics stack tools.\n",
    "* Applications - Convenient end to end interfaces for complete computations."
   ]
  },
  {
   "cell_type": "markdown",
   "metadata": {
    "slideshow": {
     "slide_type": "slide"
    }
   },
   "source": [
    "## Demo"
   ]
  },
  {
   "cell_type": "code",
   "execution_count": 2,
   "metadata": {
    "ExecuteTime": {
     "end_time": "2020-02-11T19:35:22.004593Z",
     "start_time": "2020-02-11T19:35:21.875798Z"
    },
    "slideshow": {
     "slide_type": "slide"
    }
   },
   "outputs": [],
   "source": [
    "from functools import partial\n",
    "import numpy as np\n",
    "import matplotlib.pyplot as plt\n",
    "\n",
    "from qiskit.chemistry.components.initial_states import HartreeFock\n",
    "from qiskit.chemistry.GSE import GroundStateEnergy\n",
    "from qiskit.chemistry.molecule import Molecule\n",
    "from qiskit.aqua.components.variational_forms import RY\n",
    "from qiskit.aqua.components.optimizers import SLSQP\n",
    "from qiskit.aqua import QuantumInstance\n",
    "from qiskit.aqua.algorithms import VQE, ExactEigensolver\n",
    "from qiskit import Aer"
   ]
  },
  {
   "cell_type": "code",
   "execution_count": 3,
   "metadata": {
    "ExecuteTime": {
     "end_time": "2020-02-11T19:35:26.460391Z",
     "start_time": "2020-02-11T19:35:26.455964Z"
    },
    "slideshow": {
     "slide_type": "slide"
    }
   },
   "outputs": [],
   "source": [
    "stretch = partial(Molecule.absolute_distance, atom_pair=(1, 0))\n",
    "# H-H molecule near equilibrium geometry\n",
    "m = Molecule(geometry=[['H', [0., 0., 0.]],\n",
    "                       ['H', [1., 0., 0.]],\n",
    "                       ],\n",
    "             degrees_of_freedom=[stretch],\n",
    "             masses = [1.6735328E-27, 1.6735328E-27],\n",
    "             tapering=True)\n",
    "# Note - Driver not passed here for quick hacking, but PySCF hardcoded underneath."
   ]
  },
  {
   "cell_type": "code",
   "execution_count": null,
   "metadata": {
    "ExecuteTime": {
     "end_time": "2020-02-11T19:35:31.412292Z",
     "start_time": "2020-02-11T19:35:30.891100Z"
    },
    "scrolled": true,
    "slideshow": {
     "slide_type": "skip"
    }
   },
   "outputs": [],
   "source": [
    "# Some old code for easy hacking compatibility\n",
    "\n",
    "qubitop = m.get_qubitop_hamiltonian([1])\n",
    "core = m.hamiltonian\n",
    "\n",
    "hf = HartreeFock(num_qubits=qubitop.num_qubits,\n",
    "                      num_orbitals=core._molecule_info['num_orbitals'],\n",
    "                      qubit_mapping=core._qubit_mapping,\n",
    "                      two_qubit_reduction=core._two_qubit_reduction,\n",
    "                      num_particles=core._molecule_info['num_particles'],\n",
    "                      sq_list=m.sq_list\n",
    "                      )\n",
    "ry = RY(qubitop.num_qubits, depth=1, entangler_map=None,\n",
    "              entanglement='full', initial_state=hf,\n",
    "              entanglement_gate='cz', skip_unentangled_qubits=False)"
   ]
  },
  {
   "cell_type": "code",
   "execution_count": null,
   "metadata": {
    "ExecuteTime": {
     "end_time": "2020-02-11T19:36:10.404954Z",
     "start_time": "2020-02-11T19:35:55.440022Z"
    },
    "scrolled": true,
    "slideshow": {
     "slide_type": "slide"
    }
   },
   "outputs": [],
   "source": [
    "backend = QuantumInstance(Aer.get_backend('statevector_simulator'), shots=1)\n",
    "backend.run_config.seed_simulator = 50\n",
    "backend.compile_config['seed_transpiler'] = 50\n",
    "\n",
    "vqe = VQE(operator=None, var_form=ry, optimizer=SLSQP())\n",
    "gse = GroundStateEnergy(molecule=m, min_eigensolver=vqe, backend=backend)\n",
    "\n",
    "points = np.arange(.2, 3.0, .1)\n",
    "results = gse.compute_ground_state_energy(points)\n",
    "\n",
    "for point, res in results.items():\n",
    "    print(res['energy'])"
   ]
  },
  {
   "cell_type": "code",
   "execution_count": 7,
   "metadata": {
    "ExecuteTime": {
     "end_time": "2020-02-11T19:37:24.718775Z",
     "start_time": "2020-02-11T19:37:24.569616Z"
    },
    "slideshow": {
     "slide_type": "slide"
    }
   },
   "outputs": [
    {
     "data": {
      "image/png": "[encoded data removed]",
      "text/plain": [
       "<Figure size 432x288 with 1 Axes>"
      ]
     },
     "metadata": {
      "needs_background": "light"
     },
     "output_type": "display_data"
    }
   ],
   "source": [
    "energies = [res['energy'] for res in results.values()]\n",
    "plt.plot(points, energies, label='VQE-RY')\n",
    "plt.xlabel('Atomic distance (Angstrom)')\n",
    "plt.ylabel('Energy')\n",
    "plt.legend()\n",
    "plt.show()"
   ]
  }
 ],
 "metadata": {
  "celltoolbar": "Slideshow",
  "kernelspec": {
   "display_name": "code",
   "language": "python",
   "name": "code"
  },
  "language_info": {
   "codemirror_mode": {
    "name": "ipython",
    "version": 3
   },
   "file_extension": ".py",
   "mimetype": "text/x-python",
   "name": "python",
   "nbconvert_exporter": "python",
   "pygments_lexer": "ipython3",
   "version": "3.7.4"
  },
  "toc": {
   "base_numbering": 1,
   "nav_menu": {},
   "number_sections": false,
   "sideBar": true,
   "skip_h1_title": false,
   "title_cell": "Table of Contents",
   "title_sidebar": "Contents",
   "toc_cell": false,
   "toc_position": {},
   "toc_section_display": true,
   "toc_window_display": false
  }
 },
 "nbformat": 4,
 "nbformat_minor": 2
}
